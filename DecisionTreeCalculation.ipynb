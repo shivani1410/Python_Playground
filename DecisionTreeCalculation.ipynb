{
 "cells": [
  {
   "cell_type": "code",
   "execution_count": 5,
   "metadata": {},
   "outputs": [],
   "source": [
    "val1 = ['Yes', 'Yes', 'Yes', 'No', 'No', 'Yes', 'No', 'Yes', 'No', 'No', 'Yes', 'Yes', 'Yes', 'Yes']\n"
   ]
  },
  {
   "cell_type": "code",
   "execution_count": 27,
   "metadata": {},
   "outputs": [],
   "source": [
    "import math\n",
    "def entropy(val1):\n",
    "    n=len(val1)\n",
    "    countYes=0\n",
    "    countNo=0\n",
    "    for i in range(n):\n",
    "        if val1[i]=='Yes':\n",
    "            countYes+=1\n",
    "        else:\n",
    "            countNo+=1\n",
    "    PYes=countYes/n\n",
    "    PNo=countNo/n\n",
    "    if PNo==0 :\n",
    "        E=-PYes*(math.log(PYes,2))\n",
    "    elif PYes==0:\n",
    "        E=-PNo*(math.log(PNo,2))\n",
    "    else:\n",
    "        E=-PYes*(math.log(PYes,2))-PNo*(math.log(PNo,2))\n",
    "    return abs(E)"
   ]
  },
  {
   "cell_type": "code",
   "execution_count": 23,
   "metadata": {},
   "outputs": [
    {
     "data": {
      "text/plain": [
       "0.9402859586706309"
      ]
     },
     "execution_count": 23,
     "metadata": {},
     "output_type": "execute_result"
    }
   ],
   "source": [
    "entropy(val1)"
   ]
  },
  {
   "cell_type": "code",
   "execution_count": 43,
   "metadata": {},
   "outputs": [
    {
     "name": "stdout",
     "output_type": "stream",
     "text": [
      "0.6935361388961918\n",
      "0.9709505944546686\n",
      "0.27741445555847677\n"
     ]
    }
   ],
   "source": [
    "outlook=[['Yes', 'Yes', 'No', 'No', 'No'],['Yes', 'Yes', 'Yes', 'Yes'],['Yes', 'Yes', 'Yes', 'No', 'No']]\n",
    "outlookLen=len(outlook)\n",
    "totalEntropy=0\n",
    "totalVal=0\n",
    "entArr=[]\n",
    "for z in range(outlookLen):\n",
    "    totalVal+=len(outlook[z])\n",
    "for j in range(outlookLen):\n",
    "    eachEntropy=entropy(outlook[j])\n",
    "    entArr.append(eachEntropy)\n",
    "    totalEntropy+=(len(outlook[j])/totalVal)*(eachEntropy)\n",
    "print(totalEntropy)\n",
    "print(max(entArr))\n",
    "infoGain=max(entArr)-totalEntropy\n",
    "print(infoGain)"
   ]
  },
  {
   "cell_type": "code",
   "execution_count": null,
   "metadata": {},
   "outputs": [],
   "source": []
  }
 ],
 "metadata": {
  "kernelspec": {
   "display_name": "Python 3",
   "language": "python",
   "name": "python3"
  },
  "language_info": {
   "codemirror_mode": {
    "name": "ipython",
    "version": 3
   },
   "file_extension": ".py",
   "mimetype": "text/x-python",
   "name": "python",
   "nbconvert_exporter": "python",
   "pygments_lexer": "ipython3",
   "version": "3.7.6"
  }
 },
 "nbformat": 4,
 "nbformat_minor": 4
}
